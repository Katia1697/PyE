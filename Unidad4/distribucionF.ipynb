{
  "nbformat": 4,
  "nbformat_minor": 0,
  "metadata": {
    "colab": {
      "provenance": [],
      "authorship_tag": "ABX9TyNTBaCr+52RnznCi5WQkVTV",
      "include_colab_link": true
    },
    "kernelspec": {
      "name": "python3",
      "display_name": "Python 3"
    },
    "language_info": {
      "name": "python"
    }
  },
  "cells": [
    {
      "cell_type": "markdown",
      "metadata": {
        "id": "view-in-github",
        "colab_type": "text"
      },
      "source": [
        "<a href=\"https://colab.research.google.com/github/Katia1697/PyE/blob/main/Unidad4/distribucionF.ipynb\" target=\"_parent\"><img src=\"https://colab.research.google.com/assets/colab-badge.svg\" alt=\"Open In Colab\"/></a>"
      ]
    },
    {
      "cell_type": "code",
      "execution_count": 4,
      "metadata": {
        "colab": {
          "base_uri": "https://localhost:8080/"
        },
        "id": "rrcBQwfIgruA",
        "outputId": "1f6854ce-d7dc-4231-898e-fad1ef730550"
      },
      "outputs": [
        {
          "output_type": "stream",
          "name": "stdout",
          "text": [
            "La probabilidad de que ningun paciente sufra la enfermedad es:  0.0507282029895386\n"
          ]
        }
      ],
      "source": [
        "from scipy.stats import binom\n",
        "\n",
        "probabilidad_exito = 0.83\n",
        "num_pacientes = 16\n",
        "X = 16\n",
        "\n",
        "probabilidad_ninguno_enfermo = binom.pmf( X, num_pacientes, probabilidad_exito)\n",
        "\n",
        "print(\"La probabilidad de que ningun paciente sufra la enfermedad es: \", probabilidad_ninguno_enfermo)"
      ]
    },
    {
      "cell_type": "code",
      "source": [
        "from scipy.stats import binom\n",
        "\n",
        "probabilidad_exito = 0.83\n",
        "num_pacientes = 16\n",
        "X = 0\n",
        "\n",
        "probabilidad_todos_enfermos = binom.pmf(X, num_pacientes, probabilidad_exito)\n",
        "\n",
        "print(\"La probabilidad de que todos los pacientes sufran la enfermedad es: \", probabilidad_todos_enfermos)"
      ],
      "metadata": {
        "colab": {
          "base_uri": "https://localhost:8080/"
        },
        "id": "N0BuSgb6iXYz",
        "outputId": "26b5219f-0e44-4d25-ca50-45cd5855b388"
      },
      "execution_count": 6,
      "outputs": [
        {
          "output_type": "stream",
          "name": "stdout",
          "text": [
            "La probabilidad de que todos los pacientes sufran la enfermedad es:  4.866119187566701e-13\n"
          ]
        }
      ]
    },
    {
      "cell_type": "markdown",
      "source": [
        "## Ejercicio 2 ##"
      ],
      "metadata": {
        "id": "B1RSUtxSjdHn"
      }
    },
    {
      "cell_type": "code",
      "source": [
        "from scipy.stats import binom\n",
        "\n",
        "n = 10\n",
        "p = 0.1\n",
        "x = 2\n",
        "\n",
        "probabilidad_x_2 = binom.pmf(x, n, p)\n",
        "\n",
        "print(\"La probabilidad de que la variable aleatoria X sea igual a 2 es: \",probabilidad_x_2)"
      ],
      "metadata": {
        "colab": {
          "base_uri": "https://localhost:8080/"
        },
        "id": "tcSpsYXWjPoD",
        "outputId": "88af93f2-272d-4ec6-f843-7d706ef1d0d6"
      },
      "execution_count": 8,
      "outputs": [
        {
          "output_type": "stream",
          "name": "stdout",
          "text": [
            "La probabilidad de que la variable aleatoria X sea igual a 2 es:  0.19371024450000007\n"
          ]
        }
      ]
    },
    {
      "cell_type": "markdown",
      "source": [
        "# Ejercicio 3 #"
      ],
      "metadata": {
        "id": "8y3rw6mVl5Q5"
      }
    },
    {
      "cell_type": "code",
      "source": [
        "import numpy as np\n",
        "import matplotlib.pyplot as plt\n",
        "from scipy.stats import binom\n",
        "\n",
        "n = 10\n",
        "p = 0.10\n",
        "\n",
        "valores_x= np.arangue(0, n+1)\n",
        "probabilidades_x = [binom.pmf(x, n, p) for x in valores_x]\n",
        "\n",
        "print(\"Valores de x\\t probabilidades\")\n",
        "for x, probabilidad in zip(valores_x, probabilidades_x):\n",
        "  print(f\"{x}\\t\\t{probabilidad}\")"
      ],
      "metadata": {
        "id": "espGkrItkktl"
      },
      "execution_count": null,
      "outputs": []
    }
  ]
}