{
  "nbformat": 4,
  "nbformat_minor": 0,
  "metadata": {
    "colab": {
      "provenance": [],
      "authorship_tag": "ABX9TyMe/Z8N5VOTIKgx3Hy7sip4",
      "include_colab_link": true
    },
    "kernelspec": {
      "name": "python3",
      "display_name": "Python 3"
    },
    "language_info": {
      "name": "python"
    }
  },
  "cells": [
    {
      "cell_type": "markdown",
      "metadata": {
        "id": "view-in-github",
        "colab_type": "text"
      },
      "source": [
        "<a href=\"https://colab.research.google.com/github/Katia1697/PyE/blob/main/Media%2CMedianayModa.ipynb\" target=\"_parent\"><img src=\"https://colab.research.google.com/assets/colab-badge.svg\" alt=\"Open In Colab\"/></a>"
      ]
    },
    {
      "cell_type": "markdown",
      "source": [
        "#Probabilidad y Estadistica\n",
        "##Media, Mediana y Moda\n",
        "Alumna: Katia Saucedo Perez\n",
        "\n",
        "Profesor: Jose Gabriel Rodriguez Rivas\n",
        "\n",
        "Grupo: 2YY\n",
        "\n",
        "Fecha: 05/02/2025"
      ],
      "metadata": {
        "id": "78FrrxlNW-CZ"
      }
    },
    {
      "cell_type": "code",
      "execution_count": 1,
      "metadata": {
        "id": "_QkHTpf-UfJe"
      },
      "outputs": [],
      "source": [
        "from statistics import *"
      ]
    },
    {
      "cell_type": "code",
      "source": [
        "#lista de calificaciones del grupo a de PyE\n",
        "grupoa= [70,70,65,90,100,95,45,80,73,20,100,96]\n",
        "print(grupoa)"
      ],
      "metadata": {
        "colab": {
          "base_uri": "https://localhost:8080/"
        },
        "id": "5jj8DGOcUrq6",
        "outputId": "b9b23557-6ad6-4a3d-970c-57c64d0d9422"
      },
      "execution_count": 5,
      "outputs": [
        {
          "output_type": "stream",
          "name": "stdout",
          "text": [
            "[70, 70, 65, 90, 100, 95, 45, 80, 73, 20, 100, 96]\n"
          ]
        }
      ]
    },
    {
      "cell_type": "code",
      "source": [
        "[]#Sacar la media de la media de las cal con una formula\n",
        "promedio=sum(grupoa)/len(grupoa)\n",
        "print(promedio)"
      ],
      "metadata": {
        "colab": {
          "base_uri": "https://localhost:8080/"
        },
        "id": "8AZ_sDPdVM6K",
        "outputId": "e306c064-a516-471d-d165-2e6e3ebbf271"
      },
      "execution_count": 6,
      "outputs": [
        {
          "output_type": "stream",
          "name": "stdout",
          "text": [
            "75.33333333333333\n"
          ]
        }
      ]
    },
    {
      "cell_type": "code",
      "source": [
        "#Utilizar la funcion mean que esta en la libreria statistics para sacar el promedio\n",
        "\n",
        "promedio2= mean(grupoa)\n",
        "print(promedio2)"
      ],
      "metadata": {
        "colab": {
          "base_uri": "https://localhost:8080/"
        },
        "id": "tdjbtEwkVich",
        "outputId": "4c3327b2-ed3e-4488-baf2-20e797137f04"
      },
      "execution_count": 7,
      "outputs": [
        {
          "output_type": "stream",
          "name": "stdout",
          "text": [
            "75.33333333333333\n"
          ]
        }
      ]
    },
    {
      "cell_type": "code",
      "source": [
        "#Determinar el valor de la mediana con la funcion median\n",
        "mediana= median(grupoa)\n",
        "print(mediana)"
      ],
      "metadata": {
        "colab": {
          "base_uri": "https://localhost:8080/"
        },
        "id": "auirYwT1WXZ3",
        "outputId": "aa6857cf-9924-4737-abd8-2cc69298f5b5"
      },
      "execution_count": 8,
      "outputs": [
        {
          "output_type": "stream",
          "name": "stdout",
          "text": [
            "76.5\n"
          ]
        }
      ]
    },
    {
      "cell_type": "code",
      "source": [
        "#Determinar el valor de la moda con la funcion mode\n",
        "moda= mode(grupoa)\n",
        "print(moda)"
      ],
      "metadata": {
        "colab": {
          "base_uri": "https://localhost:8080/"
        },
        "id": "WcPA_A32XN7T",
        "outputId": "fdb18f5e-3ffb-4616-952d-64a02a270d34"
      },
      "execution_count": 9,
      "outputs": [
        {
          "output_type": "stream",
          "name": "stdout",
          "text": [
            "70\n"
          ]
        }
      ]
    },
    {
      "cell_type": "code",
      "source": [
        "#En caso de que exista mas de una moda, se puede emplear la funcion multimode para sacar las multiples modas que puedan existir\n",
        "moda2= multimode(grupoa)\n",
        "print(moda2)"
      ],
      "metadata": {
        "colab": {
          "base_uri": "https://localhost:8080/"
        },
        "id": "OCb5r3VcXz--",
        "outputId": "5d066040-add7-441a-afb2-398cb3ea766d"
      },
      "execution_count": 10,
      "outputs": [
        {
          "output_type": "stream",
          "name": "stdout",
          "text": [
            "[70, 100]\n"
          ]
        }
      ]
    },
    {
      "cell_type": "markdown",
      "source": [
        "Ejemplo 2:\n",
        "\n",
        "10 alumnos corren 100m y se registran los tiempos de cada uno"
      ],
      "metadata": {
        "id": "oxKG8KA1YlOu"
      }
    },
    {
      "cell_type": "code",
      "source": [
        "#Definimos una variable llamada tiempos100mts de tipo lista, que contiene los tiempos\n",
        "tiempos100mts=[15.10,17.20,14.69,13.27,22.15,18.71,19.15,20.65,15.10,17.20]\n",
        "#Desplegamos los valores de la lista\n",
        "print(tiempos100mts)"
      ],
      "metadata": {
        "colab": {
          "base_uri": "https://localhost:8080/"
        },
        "id": "sPIQcXXSY0Z0",
        "outputId": "c3dd7ee0-961d-43d2-ac4a-738e20b76db7"
      },
      "execution_count": 11,
      "outputs": [
        {
          "output_type": "stream",
          "name": "stdout",
          "text": [
            "[15.1, 17.2, 14.69, 13.27, 22.15, 18.71, 19.15, 20.65, 15.1, 17.2]\n"
          ]
        }
      ]
    },
    {
      "cell_type": "code",
      "source": [
        "#usamos la funcion mean para determinar el tiempo promedio de la lista de valores\n",
        "print(\"El tiempo promedio de los corredores es=>\", mean(tiempos100mts))"
      ],
      "metadata": {
        "colab": {
          "base_uri": "https://localhost:8080/"
        },
        "id": "prG7inPsZhAF",
        "outputId": "5049c95e-3964-474c-c232-c4905ea37b65"
      },
      "execution_count": 13,
      "outputs": [
        {
          "output_type": "stream",
          "name": "stdout",
          "text": [
            "El tiempo promedio de los corredores es=> 17.322\n"
          ]
        }
      ]
    },
    {
      "cell_type": "code",
      "source": [
        "#Usamos la funcion median para determinar el tiempo promedio de la lista de valores\n",
        "#definios una variable llamada mediana para calcular la mediana de la lista con la funcion median\n",
        "mediana=median(tiempos100mts)\n",
        "print(\"La mediana de los tiempos de los corredores es=>\", mediana)"
      ],
      "metadata": {
        "colab": {
          "base_uri": "https://localhost:8080/"
        },
        "id": "vlFGk6s3aDQz",
        "outputId": "edd8ddba-683b-47ee-e833-07e829dc64cb"
      },
      "execution_count": 14,
      "outputs": [
        {
          "output_type": "stream",
          "name": "stdout",
          "text": [
            "La mediana de los tiempos de los corredores es=> 17.2\n"
          ]
        }
      ]
    },
    {
      "cell_type": "code",
      "source": [
        "#definimos una variable llamada moda para calcular la moda de la lista con la funcion mode\n",
        "moda=mode(tiempos100mts)\n",
        "print(\"La moda de los tiempos es=>\", moda)"
      ],
      "metadata": {
        "colab": {
          "base_uri": "https://localhost:8080/"
        },
        "id": "th8bc0aQayXh",
        "outputId": "1883e697-9153-4b0b-bdc4-ff1434525323"
      },
      "execution_count": 15,
      "outputs": [
        {
          "output_type": "stream",
          "name": "stdout",
          "text": [
            "La moda de los tiempos es=> 15.1\n"
          ]
        }
      ]
    },
    {
      "cell_type": "code",
      "source": [
        "#En caso de que sea bimodal (multiples modas)\n",
        "multimodas=multimode(tiempos100mts)\n",
        "print(\"La moda de los tiempos es=>\",multimodas)"
      ],
      "metadata": {
        "colab": {
          "base_uri": "https://localhost:8080/"
        },
        "id": "w8CGjJk8bRsz",
        "outputId": "2590da1d-2e29-4392-8e93-8f68c95f5100"
      },
      "execution_count": 17,
      "outputs": [
        {
          "output_type": "stream",
          "name": "stdout",
          "text": [
            "La moda de los tiempos es=> [15.1, 17.2]\n"
          ]
        }
      ]
    },
    {
      "cell_type": "markdown",
      "source": [
        "Ejemplo 3: Histograma de 2 grupos\n",
        "\n",
        "Generar 100 numeros aleatorios reales que representa la produccion diaria de 100 telares (medidas en metros).\n",
        "\n",
        "Generar otra lista con la produccion de 100 telares para una segunda fabrica\n",
        "\n",
        "Con estas listas de valores se pretende determinar las medidas de tendencia central, es decir, la media, la moda, la mediana, la desviacion estandar.\n",
        "\n",
        "Graficar un histograma para cada fabrica."
      ],
      "metadata": {
        "id": "g1Jv1RS-btRM"
      }
    },
    {
      "cell_type": "code",
      "source": [
        "#libreria para generar numeros aleatorios\n",
        "import random"
      ],
      "metadata": {
        "id": "QIGCMfz9bz58"
      },
      "execution_count": 19,
      "outputs": []
    },
    {
      "cell_type": "code",
      "source": [
        "fabrica1=[]\n",
        "for i in range(100):\n",
        "  numero_aleatorio= round(random.uniform(50,100),2)\n",
        "  fabrica1.append(numero_aleatorio)\n",
        "print(fabrica1)"
      ],
      "metadata": {
        "colab": {
          "base_uri": "https://localhost:8080/"
        },
        "id": "sVEdBuCDcDzI",
        "outputId": "53b9fa1d-09e1-4a4e-d38a-9c3a8ee1d797"
      },
      "execution_count": 22,
      "outputs": [
        {
          "output_type": "stream",
          "name": "stdout",
          "text": [
            "[62.37, 56.67, 66.92, 72.32, 60.56, 96.95, 84.2, 50.61, 67.39, 65.05, 61.33, 59.4, 95.52, 83.9, 87.04, 54.29, 61.57, 98.0, 53.27, 99.1, 67.54, 86.29, 98.44, 64.83, 89.09, 65.47, 50.94, 99.38, 68.09, 73.27, 87.0, 63.92, 59.02, 59.45, 99.11, 57.55, 56.18, 59.16, 83.57, 63.59, 75.66, 98.41, 97.38, 95.25, 90.49, 82.33, 91.6, 70.08, 56.09, 82.69, 82.27, 95.32, 71.58, 91.29, 61.84, 76.86, 66.21, 80.87, 90.62, 89.94, 98.59, 83.85, 57.52, 79.78, 93.8, 88.51, 64.31, 64.45, 80.42, 95.29, 50.91, 57.52, 96.11, 54.27, 84.51, 69.74, 96.63, 59.85, 72.02, 78.0, 60.25, 82.45, 64.32, 73.51, 70.5, 99.58, 79.44, 91.47, 70.28, 89.05, 55.03, 96.79, 75.39, 79.59, 98.07, 64.73, 62.96, 82.17, 65.54, 57.4]\n"
          ]
        }
      ]
    },
    {
      "cell_type": "code",
      "source": [
        "fabrica2=[]\n",
        "for i in range(100):\n",
        "  numero_aleatorio2= round(random.uniform(50,100),2)\n",
        "  fabrica2.append(numero_aleatorio)\n",
        "print(fabrica2)"
      ],
      "metadata": {
        "colab": {
          "base_uri": "https://localhost:8080/"
        },
        "id": "Fh9nJ5DLdcos",
        "outputId": "d65ea57d-f7f5-41c6-b895-36c28b159099"
      },
      "execution_count": 23,
      "outputs": [
        {
          "output_type": "stream",
          "name": "stdout",
          "text": [
            "[57.4, 57.4, 57.4, 57.4, 57.4, 57.4, 57.4, 57.4, 57.4, 57.4, 57.4, 57.4, 57.4, 57.4, 57.4, 57.4, 57.4, 57.4, 57.4, 57.4, 57.4, 57.4, 57.4, 57.4, 57.4, 57.4, 57.4, 57.4, 57.4, 57.4, 57.4, 57.4, 57.4, 57.4, 57.4, 57.4, 57.4, 57.4, 57.4, 57.4, 57.4, 57.4, 57.4, 57.4, 57.4, 57.4, 57.4, 57.4, 57.4, 57.4, 57.4, 57.4, 57.4, 57.4, 57.4, 57.4, 57.4, 57.4, 57.4, 57.4, 57.4, 57.4, 57.4, 57.4, 57.4, 57.4, 57.4, 57.4, 57.4, 57.4, 57.4, 57.4, 57.4, 57.4, 57.4, 57.4, 57.4, 57.4, 57.4, 57.4, 57.4, 57.4, 57.4, 57.4, 57.4, 57.4, 57.4, 57.4, 57.4, 57.4, 57.4, 57.4, 57.4, 57.4, 57.4, 57.4, 57.4, 57.4, 57.4, 57.4]\n"
          ]
        }
      ]
    },
    {
      "cell_type": "code",
      "source": [
        "#Libreria de python para graficar valores\n",
        "import matplotlib.pyplot as plt\n"
      ],
      "metadata": {
        "id": "SZ6TbCzrd9HN"
      },
      "execution_count": 24,
      "outputs": []
    },
    {
      "cell_type": "code",
      "source": [
        "plt.hist(fabrica1)\n",
        "plt.title(\"Produccion diaria de la Fabrica 1\")"
      ],
      "metadata": {
        "colab": {
          "base_uri": "https://localhost:8080/",
          "height": 469
        },
        "id": "ORnIIRnieG2R",
        "outputId": "25cbc439-8feb-4f2e-db97-a61979b7b132"
      },
      "execution_count": 25,
      "outputs": [
        {
          "output_type": "execute_result",
          "data": {
            "text/plain": [
              "Text(0.5, 1.0, 'Produccion diaria de la Fabrica 1')"
            ]
          },
          "metadata": {},
          "execution_count": 25
        },
        {
          "output_type": "display_data",
          "data": {
            "text/plain": [
              "<Figure size 640x480 with 1 Axes>"
            ],
            "image/png": "[encoded data removed]"
          },
          "metadata": {}
        }
      ]
    },
    {
      "cell_type": "code",
      "source": [
        "plt.hist(fabrica2)\n",
        "plt.title(\"Produccion diaria de la Fabrica 2\")"
      ],
      "metadata": {
        "id": "b1Zg-l8tel7r"
      },
      "execution_count": null,
      "outputs": []
    }
  ]
}