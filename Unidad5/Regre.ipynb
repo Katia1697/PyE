{
  "nbformat": 4,
  "nbformat_minor": 0,
  "metadata": {
    "colab": {
      "provenance": [],
      "authorship_tag": "ABX9TyPkqOsJ+CT6ch2qLMhQzJvt",
      "include_colab_link": true
    },
    "kernelspec": {
      "name": "python3",
      "display_name": "Python 3"
    },
    "language_info": {
      "name": "python"
    }
  },
  "cells": [
    {
      "cell_type": "markdown",
      "metadata": {
        "id": "view-in-github",
        "colab_type": "text"
      },
      "source": [
        "<a href=\"https://colab.research.google.com/github/Katia1697/PyE/blob/main/Unidad5/Regre.ipynb\" target=\"_parent\"><img src=\"https://colab.research.google.com/assets/colab-badge.svg\" alt=\"Open In Colab\"/></a>"
      ]
    },
    {
      "cell_type": "code",
      "execution_count": 5,
      "metadata": {
        "colab": {
          "base_uri": "https://localhost:8080/"
        },
        "id": "kaAxw63v4v6q",
        "outputId": "3dea51e3-72fe-4276-80e6-ca8ad01bbf0d"
      },
      "outputs": [
        {
          "output_type": "stream",
          "name": "stdout",
          "text": [
            "La ganancia esperada para el ano 2024 es de:  46.00000000000001\n",
            "Coeficiente de la pendiente (m): 2.0000000000000004\n",
            "Interseccion de la recta (b): 20.0\n"
          ]
        }
      ],
      "source": [
        "from sklearn.linear_model import LinearRegression #Modelo de Regresion lineal\n",
        "import numpy as np\n",
        "#Dato de entrada\n",
        "periodos = [2018,2019,2020,2021,2022,2023]\n",
        "inversion = np.array( [2,3,5,4,11,5] ).reshape(-1,1)\n",
        "ganancias = [20,25,34,30,40,31]\n",
        "#Crear y entrenar el modelo de regresion lineal\n",
        "modelo=LinearRegression()\n",
        "modelo.fit(inversion, ganancias)\n",
        "#Predecir la ganancia para el a 2024\n",
        "ganancia_2024=modelo.predict([[13]])\n",
        "print(\"La ganancia esperada para el ano 2024 es de: \", ganancia_2024[0])\n",
        "#Coeficientes de la regresion\n",
        "print(\"Coeficiente de la pendiente (m):\", modelo.coef_[0])\n",
        "print(\"Interseccion de la recta (b):\", modelo.intercept_)"
      ]
    }
  ]
}