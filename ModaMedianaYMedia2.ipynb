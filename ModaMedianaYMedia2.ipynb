{
  "nbformat": 4,
  "nbformat_minor": 0,
  "metadata": {
    "colab": {
      "provenance": [],
      "authorship_tag": "ABX9TyO32BQnKDyZjDj5bxN7zJ0T",
      "include_colab_link": true
    },
    "kernelspec": {
      "name": "python3",
      "display_name": "Python 3"
    },
    "language_info": {
      "name": "python"
    }
  },
  "cells": [
    {
      "cell_type": "markdown",
      "metadata": {
        "id": "view-in-github",
        "colab_type": "text"
      },
      "source": [
        "<a href=\"https://colab.research.google.com/github/Katia1697/PyE/blob/main/ModaMedianaYMedia2.ipynb\" target=\"_parent\"><img src=\"https://colab.research.google.com/assets/colab-badge.svg\" alt=\"Open In Colab\"/></a>"
      ]
    },
    {
      "cell_type": "markdown",
      "source": [
        "#Probabilidad y Estadistica\n",
        "##Media, Mediana y Moda\n",
        "Alumna: Katia Saucedo Perez\n",
        "\n",
        "Profesor: Jose Gabriel Rodriguez Rivas\n",
        "\n",
        "Grupo: 2YY\n",
        "\n",
        "Fecha: 05/02/2025"
      ],
      "metadata": {
        "id": "78FrrxlNW-CZ"
      }
    },
    {
      "cell_type": "code",
      "execution_count": 42,
      "metadata": {
        "id": "_QkHTpf-UfJe"
      },
      "outputs": [],
      "source": [
        "from statistics import *"
      ]
    },
    {
      "cell_type": "code",
      "source": [
        "#lista de calificaciones del grupo a de PyE\n",
        "grupoa= [70,70,65,90,100,95,45,80,73,20,100,96]\n",
        "print(grupoa)"
      ],
      "metadata": {
        "colab": {
          "base_uri": "https://localhost:8080/"
        },
        "id": "5jj8DGOcUrq6",
        "outputId": "8bba5bcf-81d2-4f8d-f6e5-1df837b8c068"
      },
      "execution_count": 43,
      "outputs": [
        {
          "output_type": "stream",
          "name": "stdout",
          "text": [
            "[70, 70, 65, 90, 100, 95, 45, 80, 73, 20, 100, 96]\n"
          ]
        }
      ]
    },
    {
      "cell_type": "code",
      "source": [
        "[]#Sacar la media de la media de las cal con una formula\n",
        "promedio=sum(grupoa)/len(grupoa)\n",
        "print(promedio)"
      ],
      "metadata": {
        "colab": {
          "base_uri": "https://localhost:8080/"
        },
        "id": "8AZ_sDPdVM6K",
        "outputId": "eb792cc1-b807-40df-f0d1-61351b2d0bac"
      },
      "execution_count": 44,
      "outputs": [
        {
          "output_type": "stream",
          "name": "stdout",
          "text": [
            "75.33333333333333\n"
          ]
        }
      ]
    },
    {
      "cell_type": "code",
      "source": [
        "#Utilizar la funcion mean que esta en la libreria statistics para sacar el promedio\n",
        "\n",
        "promedio2= mean(grupoa)\n",
        "print(promedio2)"
      ],
      "metadata": {
        "colab": {
          "base_uri": "https://localhost:8080/"
        },
        "id": "tdjbtEwkVich",
        "outputId": "f00a9fd7-2f8b-427c-d7cf-694f117f0b4f"
      },
      "execution_count": 45,
      "outputs": [
        {
          "output_type": "stream",
          "name": "stdout",
          "text": [
            "75.33333333333333\n"
          ]
        }
      ]
    },
    {
      "cell_type": "code",
      "source": [
        "#Determinar el valor de la mediana con la funcion median\n",
        "mediana= median(grupoa)\n",
        "print(mediana)"
      ],
      "metadata": {
        "colab": {
          "base_uri": "https://localhost:8080/"
        },
        "id": "auirYwT1WXZ3",
        "outputId": "a05726ca-61b4-4de2-963a-999873e85cba"
      },
      "execution_count": 46,
      "outputs": [
        {
          "output_type": "stream",
          "name": "stdout",
          "text": [
            "76.5\n"
          ]
        }
      ]
    },
    {
      "cell_type": "code",
      "source": [
        "#Determinar el valor de la moda con la funcion mode\n",
        "moda= mode(grupoa)\n",
        "print(moda)"
      ],
      "metadata": {
        "colab": {
          "base_uri": "https://localhost:8080/"
        },
        "id": "WcPA_A32XN7T",
        "outputId": "f884f403-4185-4cb6-f715-02734d35c123"
      },
      "execution_count": 47,
      "outputs": [
        {
          "output_type": "stream",
          "name": "stdout",
          "text": [
            "70\n"
          ]
        }
      ]
    },
    {
      "cell_type": "code",
      "source": [
        "#En caso de que exista mas de una moda, se puede emplear la funcion multimode para sacar las multiples modas que puedan existir\n",
        "moda2= multimode(grupoa)\n",
        "print(moda2)"
      ],
      "metadata": {
        "colab": {
          "base_uri": "https://localhost:8080/"
        },
        "id": "OCb5r3VcXz--",
        "outputId": "e6c6b147-0a2d-4f4a-b61c-70fdaf0b755c"
      },
      "execution_count": 48,
      "outputs": [
        {
          "output_type": "stream",
          "name": "stdout",
          "text": [
            "[70, 100]\n"
          ]
        }
      ]
    },
    {
      "cell_type": "markdown",
      "source": [
        "Ejemplo 2:\n",
        "\n",
        "10 alumnos corren 100m y se registran los tiempos de cada uno"
      ],
      "metadata": {
        "id": "oxKG8KA1YlOu"
      }
    },
    {
      "cell_type": "code",
      "source": [
        "#Definimos una variable llamada tiempos100mts de tipo lista, que contiene los tiempos\n",
        "tiempos100mts=[15.10,17.20,14.69,13.27,22.15,18.71,19.15,20.65,15.10,17.20]\n",
        "#Desplegamos los valores de la lista\n",
        "print(tiempos100mts)"
      ],
      "metadata": {
        "colab": {
          "base_uri": "https://localhost:8080/"
        },
        "id": "sPIQcXXSY0Z0",
        "outputId": "da0aef8a-0857-46bb-b4ef-c0d3d70088b1"
      },
      "execution_count": 49,
      "outputs": [
        {
          "output_type": "stream",
          "name": "stdout",
          "text": [
            "[15.1, 17.2, 14.69, 13.27, 22.15, 18.71, 19.15, 20.65, 15.1, 17.2]\n"
          ]
        }
      ]
    },
    {
      "cell_type": "code",
      "source": [
        "#usamos la funcion mean para determinar el tiempo promedio de la lista de valores\n",
        "print(\"El tiempo promedio de los corredores es=>\", mean(tiempos100mts))"
      ],
      "metadata": {
        "colab": {
          "base_uri": "https://localhost:8080/"
        },
        "id": "prG7inPsZhAF",
        "outputId": "b90d4a4d-29d2-4f5a-a501-52e7a0a59353"
      },
      "execution_count": 50,
      "outputs": [
        {
          "output_type": "stream",
          "name": "stdout",
          "text": [
            "El tiempo promedio de los corredores es=> 17.322\n"
          ]
        }
      ]
    },
    {
      "cell_type": "code",
      "source": [
        "#Usamos la funcion median para determinar el tiempo promedio de la lista de valores\n",
        "#definios una variable llamada mediana para calcular la mediana de la lista con la funcion median\n",
        "mediana=median(tiempos100mts)\n",
        "print(\"La mediana de los tiempos de los corredores es=>\", mediana)"
      ],
      "metadata": {
        "colab": {
          "base_uri": "https://localhost:8080/"
        },
        "id": "vlFGk6s3aDQz",
        "outputId": "7a240803-42d8-484d-8a79-aea02418f7ef"
      },
      "execution_count": 51,
      "outputs": [
        {
          "output_type": "stream",
          "name": "stdout",
          "text": [
            "La mediana de los tiempos de los corredores es=> 17.2\n"
          ]
        }
      ]
    },
    {
      "cell_type": "code",
      "source": [
        "#definimos una variable llamada moda para calcular la moda de la lista con la funcion mode\n",
        "moda=mode(tiempos100mts)\n",
        "print(\"La moda de los tiempos es=>\", moda)"
      ],
      "metadata": {
        "colab": {
          "base_uri": "https://localhost:8080/"
        },
        "id": "th8bc0aQayXh",
        "outputId": "b52aefb4-2ccd-4eb0-fb7c-c88b59fbda59"
      },
      "execution_count": 52,
      "outputs": [
        {
          "output_type": "stream",
          "name": "stdout",
          "text": [
            "La moda de los tiempos es=> 15.1\n"
          ]
        }
      ]
    },
    {
      "cell_type": "code",
      "source": [
        "#En caso de que sea bimodal (multiples modas)\n",
        "multimodas=multimode(tiempos100mts)\n",
        "print(\"La moda de los tiempos es=>\",multimodas)"
      ],
      "metadata": {
        "colab": {
          "base_uri": "https://localhost:8080/"
        },
        "id": "w8CGjJk8bRsz",
        "outputId": "d3e99a97-dbfd-40f5-e0a6-4302beb50450"
      },
      "execution_count": 53,
      "outputs": [
        {
          "output_type": "stream",
          "name": "stdout",
          "text": [
            "La moda de los tiempos es=> [15.1, 17.2]\n"
          ]
        }
      ]
    },
    {
      "cell_type": "markdown",
      "source": [
        "Ejemplo 3: Histograma de 2 grupos\n",
        "\n",
        "Generar 100 numeros aleatorios reales que representa la produccion diaria de 100 telares (medidas en metros).\n",
        "\n",
        "Generar otra lista con la produccion de 100 telares para una segunda fabrica\n",
        "\n",
        "Con estas listas de valores se pretende determinar las medidas de tendencia central, es decir, la media, la moda, la mediana, la desviacion estandar.\n",
        "\n",
        "Graficar un histograma para cada fabrica."
      ],
      "metadata": {
        "id": "g1Jv1RS-btRM"
      }
    },
    {
      "cell_type": "code",
      "source": [
        "#libreria para generar numeros aleatorios\n",
        "import random"
      ],
      "metadata": {
        "id": "QIGCMfz9bz58"
      },
      "execution_count": 54,
      "outputs": []
    },
    {
      "cell_type": "code",
      "source": [
        "fabrica1=[]\n",
        "for i in range(100):\n",
        "  numero_aleatorio= round(random.uniform(50,100),2)\n",
        "  fabrica1.append(numero_aleatorio)\n",
        "print(fabrica1)"
      ],
      "metadata": {
        "colab": {
          "base_uri": "https://localhost:8080/"
        },
        "id": "sVEdBuCDcDzI",
        "outputId": "e9f1c811-7764-439a-e483-56429681296c"
      },
      "execution_count": 55,
      "outputs": [
        {
          "output_type": "stream",
          "name": "stdout",
          "text": [
            "[65.13, 91.21, 75.86, 92.57, 58.93, 97.62, 81.36, 62.14, 53.71, 51.22, 80.05, 88.75, 65.93, 67.02, 92.91, 75.69, 71.68, 50.1, 62.45, 94.44, 76.14, 94.85, 82.6, 80.43, 58.55, 71.79, 88.79, 58.86, 70.2, 85.43, 84.04, 59.91, 64.83, 79.05, 94.14, 74.55, 50.75, 93.93, 77.35, 80.44, 88.59, 50.72, 91.49, 81.9, 93.9, 70.38, 65.73, 73.28, 93.81, 71.7, 87.04, 57.1, 67.92, 51.79, 68.0, 91.06, 67.23, 76.74, 58.47, 88.56, 83.4, 94.1, 50.32, 65.9, 95.8, 85.87, 67.99, 65.43, 66.89, 67.81, 57.51, 74.94, 73.99, 97.51, 50.75, 57.16, 79.45, 85.18, 79.6, 72.34, 65.49, 95.82, 82.9, 94.48, 51.8, 97.56, 68.83, 77.88, 73.72, 52.16, 58.75, 75.19, 75.17, 56.62, 87.86, 62.78, 87.59, 90.06, 68.12, 72.57]\n"
          ]
        }
      ]
    },
    {
      "cell_type": "code",
      "source": [
        "fabrica2=[]\n",
        "for i in range(100):\n",
        "  numero_aleatorio2= round(random.uniform(50,100),2)\n",
        "  fabrica2.append(numero_aleatorio2)\n",
        "print(fabrica2)"
      ],
      "metadata": {
        "colab": {
          "base_uri": "https://localhost:8080/"
        },
        "id": "Fh9nJ5DLdcos",
        "outputId": "cb630342-15ec-4cc7-dd21-95d746c98d54"
      },
      "execution_count": 56,
      "outputs": [
        {
          "output_type": "stream",
          "name": "stdout",
          "text": [
            "[53.06, 76.35, 83.6, 62.93, 86.22, 70.47, 69.34, 68.6, 87.27, 58.38, 50.42, 92.82, 74.79, 81.25, 75.56, 85.73, 61.76, 69.94, 71.68, 91.27, 66.38, 66.93, 74.78, 51.91, 54.82, 92.34, 66.31, 74.62, 88.98, 86.42, 63.11, 66.19, 78.52, 74.16, 71.1, 82.74, 59.25, 63.05, 75.19, 58.11, 75.4, 90.25, 51.79, 70.24, 94.08, 71.61, 68.51, 76.21, 83.09, 87.36, 89.55, 96.06, 57.39, 56.46, 72.66, 73.09, 55.57, 63.83, 94.43, 55.34, 73.97, 55.97, 77.7, 84.03, 80.15, 97.2, 67.74, 82.97, 86.73, 71.17, 85.17, 86.72, 99.85, 80.35, 96.13, 92.47, 75.35, 83.33, 83.13, 90.12, 87.0, 82.36, 95.84, 65.21, 64.45, 70.53, 82.74, 78.82, 99.11, 50.78, 52.69, 76.35, 70.98, 56.76, 58.33, 86.56, 51.77, 65.9, 92.5, 76.8]\n"
          ]
        }
      ]
    },
    {
      "cell_type": "code",
      "source": [
        "#Libreria de python para graficar valores\n",
        "import matplotlib.pyplot as plt\n"
      ],
      "metadata": {
        "id": "SZ6TbCzrd9HN"
      },
      "execution_count": 57,
      "outputs": []
    },
    {
      "cell_type": "code",
      "source": [
        "plt.hist(fabrica1)\n",
        "plt.title(\"Produccion diaria de la Fabrica 1\")"
      ],
      "metadata": {
        "colab": {
          "base_uri": "https://localhost:8080/",
          "height": 469
        },
        "id": "ORnIIRnieG2R",
        "outputId": "fc5ff925-f719-492f-d7f4-7fbd25cca7f1"
      },
      "execution_count": 58,
      "outputs": [
        {
          "output_type": "execute_result",
          "data": {
            "text/plain": [
              "Text(0.5, 1.0, 'Produccion diaria de la Fabrica 1')"
            ]
          },
          "metadata": {},
          "execution_count": 58
        },
        {
          "output_type": "display_data",
          "data": {
            "text/plain": [
              "<Figure size 640x480 with 1 Axes>"
            ],
            "image/png": "[encoded data removed]"
          },
          "metadata": {}
        }
      ]
    },
    {
      "cell_type": "code",
      "source": [
        "plt.hist(fabrica2)\n",
        "plt.title(\"Produccion diaria de la Fabrica 2\")"
      ],
      "metadata": {
        "colab": {
          "base_uri": "https://localhost:8080/",
          "height": 469
        },
        "id": "b1Zg-l8tel7r",
        "outputId": "0ed9e077-e881-4f9d-9520-d87fbbc0d3ea"
      },
      "execution_count": 59,
      "outputs": [
        {
          "output_type": "execute_result",
          "data": {
            "text/plain": [
              "Text(0.5, 1.0, 'Produccion diaria de la Fabrica 2')"
            ]
          },
          "metadata": {},
          "execution_count": 59
        },
        {
          "output_type": "display_data",
          "data": {
            "text/plain": [
              "<Figure size 640x480 with 1 Axes>"
            ],
            "image/png": "[encoded data removed]"
          },
          "metadata": {}
        }
      ]
    },
    {
      "cell_type": "code",
      "source": [
        "media1= mean(fabrica1)\n",
        "mediana1=median(fabrica1)\n",
        "moda1=mode(fabrica1)\n",
        "\n",
        "print(\"Valores de la fabrica 1\")\n",
        "print(\"La media es =\",media1)\n",
        "print(\"La mediana es =\",mediana1)\n",
        "print(\"La moda es =\",moda1)"
      ],
      "metadata": {
        "colab": {
          "base_uri": "https://localhost:8080/"
        },
        "id": "Cp3-7oU4eJ64",
        "outputId": "a20b0e61-444e-44c5-a19c-298ae2cdd420"
      },
      "execution_count": 60,
      "outputs": [
        {
          "output_type": "stream",
          "name": "stdout",
          "text": [
            "Valores de la fabrica 1\n",
            "La media es = 74.681\n",
            "La mediana es = 74.745\n",
            "La moda es = 50.75\n"
          ]
        }
      ]
    },
    {
      "cell_type": "code",
      "source": [
        "media2= mean(fabrica2)\n",
        "mediana2=median(fabrica2)\n",
        "moda2=mode(fabrica2)\n",
        "\n",
        "print(\"Valores de la fabrica 2\")\n",
        "print(\"La media es =\",media2)\n",
        "print(\"La mediana es =\",mediana2)\n",
        "print(\"La moda es =\",moda2)"
      ],
      "metadata": {
        "colab": {
          "base_uri": "https://localhost:8080/"
        },
        "id": "HJJLnU77e3hB",
        "outputId": "d2670874-55bc-4af4-d1fe-ec331da6453c"
      },
      "execution_count": 61,
      "outputs": [
        {
          "output_type": "stream",
          "name": "stdout",
          "text": [
            "Valores de la fabrica 2\n",
            "La media es = 74.85\n",
            "La mediana es = 74.99000000000001\n",
            "La moda es = 76.35\n"
          ]
        }
      ]
    },
    {
      "cell_type": "code",
      "source": [
        "#generar 2 subplot de 1 renglon por 2 columnas para desplegar los 2 histogramas, una al lado de la otra\n",
        "fig, (ax1, ax2)=plt.subplots(nrows=1,ncols=2,figsize=(10,5))\n",
        "ax1.hist(fabrica1)\n",
        "ax2.hist(fabrica2)\n",
        "plt.show()"
      ],
      "metadata": {
        "colab": {
          "base_uri": "https://localhost:8080/",
          "height": 445
        },
        "id": "gMnY533GfE-o",
        "outputId": "dd1db9cb-9b90-4737-9e8f-93eec33cd3e0"
      },
      "execution_count": 62,
      "outputs": [
        {
          "output_type": "display_data",
          "data": {
            "text/plain": [
              "<Figure size 1000x500 with 2 Axes>"
            ],
            "image/png": "[encoded data removed]"
          },
          "metadata": {}
        }
      ]
    },
    {
      "cell_type": "code",
      "source": [
        "plt.hist(fabrica1, bins=10, alpha=0.2, color='b', edgecolor = \"black\")\n",
        "plt.axvline(media1, color='b', linestyle='dashed', linewidth=2, label='Media')\n",
        "plt.axvline(mediana1, color='r', linestyle='dashed', linewidth=2, label='Mediana')\n",
        "plt.axvline(moda1, color='y', linestyle='dashed', linewidth=2, label='Moda')\n",
        "plt.xlabel('Valor')\n",
        "plt.ylabel('Frecuencia')\n",
        "plt.title(\"Produccion diaria de la fabrica 1\")\n",
        "plt.legend()\n",
        "plt.show()"
      ],
      "metadata": {
        "colab": {
          "base_uri": "https://localhost:8080/",
          "height": 472
        },
        "id": "03Ls14zQg2mZ",
        "outputId": "0a833f45-c04b-4359-eb2d-9d276bcf0048"
      },
      "execution_count": 63,
      "outputs": [
        {
          "output_type": "display_data",
          "data": {
            "text/plain": [
              "<Figure size 640x480 with 1 Axes>"
            ],
            "image/png": "[encoded data removed]"
          },
          "metadata": {}
        }
      ]
    },
    {
      "cell_type": "code",
      "source": [
        "plt.hist(fabrica2, bins=10, alpha=0.2, color='b', edgecolor = \"black\")\n",
        "plt.axvline(media2, color='b', linestyle='dashed', linewidth=2, label='Media')\n",
        "plt.axvline(mediana2, color='r', linestyle='dashed', linewidth=2, label='Mediana')\n",
        "plt.axvline(moda2, color='y', linestyle='dashed', linewidth=2, label='Moda')\n",
        "plt.xlabel('Valor')\n",
        "plt.ylabel('Frecuencia')\n",
        "plt.title(\"Produccion diaria de la fabrica 2\")\n",
        "plt.legend()\n",
        "plt.show()"
      ],
      "metadata": {
        "colab": {
          "base_uri": "https://localhost:8080/",
          "height": 472
        },
        "id": "zTYXuWQNjtMB",
        "outputId": "ff133135-6b60-4212-9080-02cce16ef76c"
      },
      "execution_count": 64,
      "outputs": [
        {
          "output_type": "display_data",
          "data": {
            "text/plain": [
              "<Figure size 640x480 with 1 Axes>"
            ],
            "image/png": "[encoded data removed]"
          },
          "metadata": {}
        }
      ]
    }
  ]
}