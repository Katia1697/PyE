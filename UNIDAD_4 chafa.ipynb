{
  "nbformat": 4,
  "nbformat_minor": 0,
  "metadata": {
    "colab": {
      "provenance": [],
      "authorship_tag": "ABX9TyM46RUppOtzjG/IsIxv+qXU",
      "include_colab_link": true
    },
    "kernelspec": {
      "name": "python3",
      "display_name": "Python 3"
    },
    "language_info": {
      "name": "python"
    }
  },
  "cells": [
    {
      "cell_type": "markdown",
      "metadata": {
        "id": "view-in-github",
        "colab_type": "text"
      },
      "source": [
        "<a href=\"https://colab.research.google.com/github/Katia1697/PyE/blob/main/UNIDAD_4%20chafa.ipynb\" target=\"_parent\"><img src=\"https://colab.research.google.com/assets/colab-badge.svg\" alt=\"Open In Colab\"/></a>"
      ]
    },
    {
      "cell_type": "code",
      "execution_count": 6,
      "metadata": {
        "id": "MZBBx836g8ZV"
      },
      "outputs": [],
      "source": [
        "import numpy as np\n",
        "import matplotlib.pyplot as plt\n",
        "from scipy.stats import norm"
      ]
    },
    {
      "cell_type": "code",
      "source": [
        "# Generar datos para la distribucion normal\n",
        "\n",
        "media = 70 # Media\n",
        "desv_std =4 # Desviacion estandar\n",
        "num_datos = 500\n",
        "\n",
        "#generamos los datos de manera aleatoria y los ponemos en una lista (array)\n",
        "datos = np.random.normal(media, desv_std, num_datos)\n",
        "datos[0:50] # Mostrar los primeros 50"
      ],
      "metadata": {
        "colab": {
          "base_uri": "https://localhost:8080/"
        },
        "id": "mpcR16TNhRXB",
        "outputId": "dcb94fb9-a652-44a0-db94-fe849c33d0af"
      },
      "execution_count": 7,
      "outputs": [
        {
          "output_type": "execute_result",
          "data": {
            "text/plain": [
              "array([68.43816324, 67.22548407, 74.52090244, 73.86792263, 71.80553576,\n",
              "       73.38048152, 73.82978597, 66.60537411, 67.82493929, 75.14645231,\n",
              "       67.84116403, 72.11760671, 69.48839727, 68.02832724, 69.76185198,\n",
              "       74.01461559, 73.97458376, 74.1216758 , 65.3070706 , 66.35658675,\n",
              "       65.10548204, 68.65662394, 72.24483865, 70.70963583, 63.99156716,\n",
              "       73.86205152, 70.98304199, 73.34578813, 75.2689791 , 72.42457326,\n",
              "       70.10337273, 71.84995028, 71.9885443 , 68.84395872, 76.34642515,\n",
              "       71.18015986, 69.16858028, 68.56311787, 73.1254266 , 65.1972402 ,\n",
              "       75.68531947, 64.32303205, 66.60344211, 67.0648342 , 70.97630963,\n",
              "       69.99502041, 78.54733552, 76.61895224, 68.95285117, 66.7090598 ])"
            ]
          },
          "metadata": {},
          "execution_count": 7
        }
      ]
    },
    {
      "cell_type": "code",
      "source": [
        "# Graficar histograma\n",
        "plt.figure(figsize=(6, 4))\n",
        "plt.hist(datos, bins=15, alpha=0.4, color='b') #Histograma de los datos\n",
        "plt.title('Distribucion Normal')\n",
        "plt.xlabel('Peso en kg de los estudiantes')\n",
        "plt.grid(True)\n",
        "plt.show()"
      ],
      "metadata": {
        "colab": {
          "base_uri": "https://localhost:8080/",
          "height": 410
        },
        "id": "l_V2BrdFh-XF",
        "outputId": "e2ca004a-e614-42e9-8605-86ad8631a1e2"
      },
      "execution_count": 8,
      "outputs": [
        {
          "output_type": "display_data",
          "data": {
            "text/plain": [
              "<Figure size 600x400 with 1 Axes>"
            ],
            "image/png": "[encoded data removed]"
          },
          "metadata": {}
        }
      ]
    },
    {
      "cell_type": "code",
      "source": [
        "# # Crear un rango de valores para crear una densidad\n",
        "x = np.linspace(media -  3 * desv_std, media + 3 *desv_std, num_datos)\n",
        "\n",
        "# Calcular la PDF de la distribucion normal\n",
        "pdf = 1 / (desv_std * np.sqrt(2 * np.pi)) * np.exp(-(x - media)**2 / (2 * desv_std **2))\n"
      ],
      "metadata": {
        "id": "SV3I8J8ziw3l"
      },
      "execution_count": 10,
      "outputs": []
    },
    {
      "cell_type": "code",
      "source": [
        "pdf.size, num_datos"
      ],
      "metadata": {
        "colab": {
          "base_uri": "https://localhost:8080/"
        },
        "id": "JMCEPgh5j2AJ",
        "outputId": "bb824941-9c6a-463f-b205-7d9d8b8b1ca2"
      },
      "execution_count": 11,
      "outputs": [
        {
          "output_type": "execute_result",
          "data": {
            "text/plain": [
              "(500, 500)"
            ]
          },
          "metadata": {},
          "execution_count": 11
        }
      ]
    },
    {
      "cell_type": "code",
      "source": [
        "# Para no imprimir toda la lista de valores (500), desplegamos los primeros 50\n",
        "print(\"Imprimir los primeros 50 Valores de x\", x[0:50], \" , y los imprimeros 50 pdf\", pdf[0:50])"
      ],
      "metadata": {
        "colab": {
          "base_uri": "https://localhost:8080/"
        },
        "id": "1uDfOSFJj5Sf",
        "outputId": "a46f820e-3484-4b92-c846-271cd7234b57"
      },
      "execution_count": 13,
      "outputs": [
        {
          "output_type": "stream",
          "name": "stdout",
          "text": [
            "Imprimir los primeros 50 Valores de x [58.         58.04809619 58.09619238 58.14428858 58.19238477 58.24048096\n",
            " 58.28857715 58.33667335 58.38476954 58.43286573 58.48096192 58.52905812\n",
            " 58.57715431 58.6252505  58.67334669 58.72144289 58.76953908 58.81763527\n",
            " 58.86573146 58.91382766 58.96192385 59.01002004 59.05811623 59.10621242\n",
            " 59.15430862 59.20240481 59.250501   59.29859719 59.34669339 59.39478958\n",
            " 59.44288577 59.49098196 59.53907816 59.58717435 59.63527054 59.68336673\n",
            " 59.73146293 59.77955912 59.82765531 59.8757515  59.9238477  59.97194389\n",
            " 60.02004008 60.06813627 60.11623246 60.16432866 60.21242485 60.26052104\n",
            " 60.30861723 60.35671343]  , y los imprimeros 50 pdf [0.00110796 0.00114858 0.0011905  0.00123379 0.00127846 0.00132455\n",
            " 0.00137211 0.00142118 0.00147178 0.00152397 0.00157777 0.00163325\n",
            " 0.00169042 0.00174935 0.00181007 0.00187262 0.00193706 0.00200342\n",
            " 0.00207176 0.00214212 0.00221455 0.0022891  0.00236581 0.00244475\n",
            " 0.00252595 0.00260947 0.00269536 0.00278367 0.00287447 0.0029678\n",
            " 0.00306371 0.00316227 0.00326352 0.00336753 0.00347436 0.00358405\n",
            " 0.00369667 0.00381228 0.00393094 0.00405271 0.00417764 0.0043058\n",
            " 0.00443725 0.00457205 0.00471027 0.00485197 0.0049972  0.00514604\n",
            " 0.00529854 0.00545478]\n"
          ]
        }
      ]
    },
    {
      "cell_type": "code",
      "source": [
        "# Visualizar la PDF\n",
        "plt.figure(figsize=(6,4))\n",
        "plt.plot(x, pdf, label='Normal : (media: )')"
      ],
      "metadata": {
        "id": "-lObUHc9kuhh"
      },
      "execution_count": null,
      "outputs": []
    }
  ]
}